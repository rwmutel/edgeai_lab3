{
 "cells": [
  {
   "cell_type": "code",
   "execution_count": 1,
   "metadata": {},
   "outputs": [],
   "source": [
    "import numpy as np"
   ]
  },
  {
   "cell_type": "code",
   "execution_count": 10,
   "metadata": {},
   "outputs": [
    {
     "name": "stdout",
     "output_type": "stream",
     "text": [
      "Summary for onnx\n",
      "FPS mean: 3.98\n",
      "FPS std: 0.10\n",
      "Summary for tflite\n",
      "FPS mean: 1.64\n",
      "FPS std: 0.03\n",
      "Summary for rknn\n",
      "FPS mean: 23.96\n",
      "FPS std: 1.35\n"
     ]
    }
   ],
   "source": [
    "model_names = [\".onnx\", \"-fp16.tflite\", \"_fp.rknn\"]\n",
    "for model_name in model_names:\n",
    "    log_file = f\"fps_log_yolov5s{model_name}.txt\"\n",
    "    with open(log_file, \"r\") as f:\n",
    "        lines = [float(l) for l in f.readlines()]\n",
    "    print(f\"Summary for {model_name.split('.')[-1]}\")\n",
    "    print(f\"FPS mean: {np.mean(lines):.2f}\")\n",
    "    print(f\"FPS std: {np.std(lines):.2f}\")"
   ]
  }
 ],
 "metadata": {
  "kernelspec": {
   "display_name": "base",
   "language": "python",
   "name": "python3"
  },
  "language_info": {
   "codemirror_mode": {
    "name": "ipython",
    "version": 3
   },
   "file_extension": ".py",
   "mimetype": "text/x-python",
   "name": "python",
   "nbconvert_exporter": "python",
   "pygments_lexer": "ipython3",
   "version": "3.10.14"
  }
 },
 "nbformat": 4,
 "nbformat_minor": 2
}
